{
 "cells": [
  {
   "cell_type": "code",
   "execution_count": 269,
   "metadata": {
    "collapsed": false
   },
   "outputs": [],
   "source": [
    "from sympy import *\n",
    "import numpy as np\n",
    "from scipy.optimize import curve_fit\n",
    "\n",
    "import matplotlib.pyplot as plt\n",
    "%matplotlib inline"
   ]
  },
  {
   "cell_type": "code",
   "execution_count": 10,
   "metadata": {
    "collapsed": false
   },
   "outputs": [],
   "source": [
    "x = symbols(\"x\")"
   ]
  },
  {
   "cell_type": "code",
   "execution_count": 136,
   "metadata": {
    "collapsed": false
   },
   "outputs": [],
   "source": [
    "def make_q(n):\n",
    "    q = Integer(1).as_poly(x)\n",
    "    i = n - 1\n",
    "    while i >= 1:\n",
    "        factor = (1 + i*i*x*x).as_poly(x)\n",
    "        q = q * factor\n",
    "        i -= 2\n",
    "    return q"
   ]
  },
  {
   "cell_type": "code",
   "execution_count": 138,
   "metadata": {
    "collapsed": false
   },
   "outputs": [],
   "source": [
    "def make_tanh_up_to(degree):\n",
    "    i = 1\n",
    "    t = Integer(0).as_poly(x)\n",
    "    while 2 * i - 1 <= degree:\n",
    "        coef = Integer(2)**(2*i) * ((Integer(2) ** (2*i)) - 1) * bernoulli(2*i) / factorial(2*i)\n",
    "        exp = 2*i - 1\n",
    "        term = coef * (x ** exp)\n",
    "        t = t + term\n",
    "        i += 1\n",
    "    return t\n",
    "\n",
    "def make_tanh_pi_over_2x_up_to(degree):\n",
    "    i = 1\n",
    "    t = Integer(0).as_poly(1/x)\n",
    "    while 2 * i - 1 <= degree:\n",
    "        coef = Integer(2)**(2*i) * ((Integer(2) ** (2*i)) - 1) * bernoulli(2*i) / factorial(2*i)\n",
    "        exp = 2*i - 1\n",
    "        term = coef * ((pi/(2*x)) ** exp)\n",
    "        t = t + term\n",
    "        i += 1\n",
    "    return t\n",
    "\n",
    "def calc_A_n_1(n):\n",
    "    if n % 2 == 0:\n",
    "        q = make_q(n)\n",
    "        t = make_tanh_pi_over_2x_up_to(n)\n",
    "        prod = q * t\n",
    "        # Now convert to an expression to cancel the x's and (1/x)'s\n",
    "        prod_expr = prod.as_expr()\n",
    "        return N(prod_expr.coeff(x), maxn=1000)\n",
    "    else:\n",
    "        assert false\n",
    "\n",
    "def calc_limiting_vertices(d):\n",
    "    return np.pi * calc_A_n_1(d)"
   ]
  },
  {
   "cell_type": "code",
   "execution_count": 317,
   "metadata": {
    "collapsed": false
   },
   "outputs": [
    {
     "name": "stdout",
     "output_type": "stream",
     "text": [
      "Best line fit parameters a, b are [ 3.02946334 -1.91526572]\n",
      "Estimated covariance of the parameters is [[ 5.54984116e-05 -1.79553886e-04]\n",
      " [-1.79553886e-04  6.97393140e-04]]\n"
     ]
    },
    {
     "data": {
      "text/plain": [
       "[<matplotlib.lines.Line2D at 0x7f95b2559208>]"
      ]
     },
     "execution_count": 317,
     "metadata": {},
     "output_type": "execute_result"
    },
    {
     "data": {
      "image/png": "[encoded data removed]",
      "text/plain": [
       "<Figure size 432x288 with 1 Axes>"
      ]
     },
     "metadata": {
      "needs_background": "light"
     },
     "output_type": "display_data"
    }
   ],
   "source": [
    "# Test our setup on the known case where k = 2.\n",
    "\n",
    "# Calculate some A[d, 2] values for d between 1 and 300.\n",
    "test_points = list(np.linspace(2, 10, 10)) + list((np.logspace(1, 2.5, 20)))\n",
    "test_points = list(map(int, test_points))\n",
    "# Make sure the dimensions tested are even (for the next example).\n",
    "test_points = [p if p % 2 == 0 else p + 1 for p in test_points]\n",
    "A_d2s = []\n",
    "for d in test_points:\n",
    "    q = make_q(d)\n",
    "    A_d2s.append(float(q.coeff_monomial(x**2)))\n",
    "\n",
    "def linear(x, a, b):\n",
    "    return a * x + b\n",
    "\n",
    "# Make a log-log plot.\n",
    "log_test_points = np.log(test_points)\n",
    "log_As = np.log(A_d2s)\n",
    "plt.scatter(log_test_points, log_As)\n",
    "\n",
    "# Line fit to this plot has a slope very close to 3, corroborating known O(d^3) result.\n",
    "popt, pcov = curve_fit(linear, log_test_points, log_As)\n",
    "print(\"Best line fit parameters a, b are \" + str(popt))\n",
    "print(\"Estimated covariance of the parameters is \" + str(pcov))\n",
    "plt.plot(log_test_points, linear(log_test_points, *popt), color=\"orange\")"
   ]
  },
  {
   "cell_type": "code",
   "execution_count": 318,
   "metadata": {
    "collapsed": false
   },
   "outputs": [
    {
     "name": "stdout",
     "output_type": "stream",
     "text": [
      "Best line fit parameters a, b are [1.47199325 0.49923015]\n",
      "Estimated covariance of the parameters is [[ 1.20549103e-05 -3.90012232e-05]\n",
      " [-3.90012232e-05  1.51482013e-04]]\n"
     ]
    },
    {
     "data": {
      "text/plain": [
       "[<matplotlib.lines.Line2D at 0x7f959c4f92b0>]"
      ]
     },
     "execution_count": 318,
     "metadata": {},
     "output_type": "execute_result"
    },
    {
     "data": {
      "image/png": "[encoded data removed]",
      "text/plain": [
       "<Figure size 432x288 with 1 Axes>"
      ]
     },
     "metadata": {
      "needs_background": "light"
     },
     "output_type": "display_data"
    }
   ],
   "source": [
    "# Now the case we're interested in:\n",
    "# The limiting expected number of vertices pi * A[d, 1].\n",
    "\n",
    "# Make sure the dimensions tested are even.\n",
    "vertices_results = [float(calc_limiting_vertices(p)) for p in test_points]\n",
    "\n",
    "# Make a log-log plot.\n",
    "log_vertices_results = np.log(vertices_results)\n",
    "plt.scatter(log_test_points, log_vertices_results)\n",
    "\n",
    "# Line fit to this plot has a slope very close to 3/2, corroborating  O(d^{3/2}) conjecture.\n",
    "popt2, pcov2 = curve_fit(linear, log_test_points, log_vertices_results)\n",
    "print(\"Best line fit parameters a, b are \" + str(popt2))\n",
    "print(\"Estimated covariance of the parameters is \" + str(pcov2))\n",
    "plt.plot(log_test_points, linear(log_test_points, *popt2), color=\"orange\")\n"
   ]
  },
  {
   "cell_type": "code",
   "execution_count": null,
   "metadata": {
    "collapsed": false
   },
   "outputs": [],
   "source": []
  }
 ],
 "metadata": {
  "kernelspec": {
   "argv": [
    "/Users/spencer/anaconda3/bin/python",
    "-m",
    "ipykernel_launcher",
    "-f",
    "{connection_file}"
   ],
   "display_name": "Python 3",
   "env": null,
   "interrupt_mode": "signal",
   "language": "python",
   "metadata": null,
   "name": "python3"
  },
  "name": "Untitled.ipynb"
 },
 "nbformat": 4,
 "nbformat_minor": 2
}
